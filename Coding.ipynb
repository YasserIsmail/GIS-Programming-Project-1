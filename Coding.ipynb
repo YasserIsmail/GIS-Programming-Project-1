{
 "cells": [
  {
   "cell_type": "markdown",
   "metadata": {},
   "source": [
    "## import Libraries"
   ]
  },
  {
   "cell_type": "code",
   "execution_count": 1,
   "metadata": {},
   "outputs": [],
   "source": [
    "import os\n",
    "import geopandas as gpd\n",
    "from shapely.geometry import Point,Polygon,box\n",
    "from pyproj import CRS\n",
    "from numpy import arange\n",
    "import pandas as pd"
   ]
  },
  {
   "cell_type": "markdown",
   "metadata": {},
   "source": [
    "### reading \"road.shp\" File and re-projecting it to (epsg:5179)"
   ]
  },
  {
   "cell_type": "code",
   "execution_count": 2,
   "metadata": {
    "scrolled": false
   },
   "outputs": [
    {
     "data": {
      "text/html": [
       "<div>\n",
       "<style scoped>\n",
       "    .dataframe tbody tr th:only-of-type {\n",
       "        vertical-align: middle;\n",
       "    }\n",
       "\n",
       "    .dataframe tbody tr th {\n",
       "        vertical-align: top;\n",
       "    }\n",
       "\n",
       "    .dataframe thead th {\n",
       "        text-align: right;\n",
       "    }\n",
       "</style>\n",
       "<table border=\"1\" class=\"dataframe\">\n",
       "  <thead>\n",
       "    <tr style=\"text-align: right;\">\n",
       "      <th></th>\n",
       "      <th>LINK_ID</th>\n",
       "      <th>F_NODE</th>\n",
       "      <th>T_NODE</th>\n",
       "      <th>LANES</th>\n",
       "      <th>ROAD_RANK</th>\n",
       "      <th>ROAD_TYPE</th>\n",
       "      <th>ROAD_NO</th>\n",
       "      <th>ROAD_NAME</th>\n",
       "      <th>ROAD_USE</th>\n",
       "      <th>MULTI_LINK</th>\n",
       "      <th>CONNECT</th>\n",
       "      <th>MAX_SPD</th>\n",
       "      <th>REST_VEH</th>\n",
       "      <th>REST_W</th>\n",
       "      <th>REST_H</th>\n",
       "      <th>LENGTH</th>\n",
       "      <th>REMARK</th>\n",
       "      <th>geometry</th>\n",
       "    </tr>\n",
       "  </thead>\n",
       "  <tbody>\n",
       "    <tr>\n",
       "      <th>0</th>\n",
       "      <td>3880778900</td>\n",
       "      <td>3880289100</td>\n",
       "      <td>3880289500</td>\n",
       "      <td>1</td>\n",
       "      <td>107</td>\n",
       "      <td>000</td>\n",
       "      <td>-</td>\n",
       "      <td>금오14길</td>\n",
       "      <td>0</td>\n",
       "      <td>0</td>\n",
       "      <td>000</td>\n",
       "      <td>40</td>\n",
       "      <td>0</td>\n",
       "      <td>0</td>\n",
       "      <td>0</td>\n",
       "      <td>134.2642</td>\n",
       "      <td>None</td>\n",
       "      <td>LINESTRING (1138704.411 1703375.173, 1138719.4...</td>\n",
       "    </tr>\n",
       "    <tr>\n",
       "      <th>1</th>\n",
       "      <td>3880779000</td>\n",
       "      <td>3880289500</td>\n",
       "      <td>3880289000</td>\n",
       "      <td>1</td>\n",
       "      <td>107</td>\n",
       "      <td>000</td>\n",
       "      <td>-</td>\n",
       "      <td>금오14길</td>\n",
       "      <td>0</td>\n",
       "      <td>0</td>\n",
       "      <td>000</td>\n",
       "      <td>40</td>\n",
       "      <td>0</td>\n",
       "      <td>0</td>\n",
       "      <td>0</td>\n",
       "      <td>40.1724</td>\n",
       "      <td>None</td>\n",
       "      <td>LINESTRING (1138719.394 1703508.432, 1138724.4...</td>\n",
       "    </tr>\n",
       "    <tr>\n",
       "      <th>2</th>\n",
       "      <td>3880779100</td>\n",
       "      <td>3880289000</td>\n",
       "      <td>3880289500</td>\n",
       "      <td>1</td>\n",
       "      <td>107</td>\n",
       "      <td>000</td>\n",
       "      <td>-</td>\n",
       "      <td>금오14길</td>\n",
       "      <td>0</td>\n",
       "      <td>0</td>\n",
       "      <td>000</td>\n",
       "      <td>40</td>\n",
       "      <td>0</td>\n",
       "      <td>0</td>\n",
       "      <td>0</td>\n",
       "      <td>40.1723</td>\n",
       "      <td>None</td>\n",
       "      <td>LINESTRING (1138712.566 1703549.774, 1138707.4...</td>\n",
       "    </tr>\n",
       "  </tbody>\n",
       "</table>\n",
       "</div>"
      ],
      "text/plain": [
       "      LINK_ID      F_NODE      T_NODE  LANES ROAD_RANK ROAD_TYPE ROAD_NO  \\\n",
       "0  3880778900  3880289100  3880289500      1       107       000       -   \n",
       "1  3880779000  3880289500  3880289000      1       107       000       -   \n",
       "2  3880779100  3880289000  3880289500      1       107       000       -   \n",
       "\n",
       "  ROAD_NAME ROAD_USE MULTI_LINK CONNECT  MAX_SPD REST_VEH  REST_W  REST_H  \\\n",
       "0     금오14길        0          0     000       40        0       0       0   \n",
       "1     금오14길        0          0     000       40        0       0       0   \n",
       "2     금오14길        0          0     000       40        0       0       0   \n",
       "\n",
       "     LENGTH REMARK                                           geometry  \n",
       "0  134.2642   None  LINESTRING (1138704.411 1703375.173, 1138719.4...  \n",
       "1   40.1724   None  LINESTRING (1138719.394 1703508.432, 1138724.4...  \n",
       "2   40.1723   None  LINESTRING (1138712.566 1703549.774, 1138707.4...  "
      ]
     },
     "execution_count": 2,
     "metadata": {},
     "output_type": "execute_result"
    }
   ],
   "source": [
    "road = gpd.read_file(r\"inputs\\road.shp\",encoding=\"utf8\")\n",
    "road.to_crs(epsg=5179,inplace=True)\n",
    "road.head(3)"
   ]
  },
  {
   "cell_type": "markdown",
   "metadata": {},
   "source": [
    "### reading \"camera.csv\" file"
   ]
  },
  {
   "cell_type": "code",
   "execution_count": 3,
   "metadata": {},
   "outputs": [
    {
     "data": {
      "text/html": [
       "<div>\n",
       "<style scoped>\n",
       "    .dataframe tbody tr th:only-of-type {\n",
       "        vertical-align: middle;\n",
       "    }\n",
       "\n",
       "    .dataframe tbody tr th {\n",
       "        vertical-align: top;\n",
       "    }\n",
       "\n",
       "    .dataframe thead th {\n",
       "        text-align: right;\n",
       "    }\n",
       "</style>\n",
       "<table border=\"1\" class=\"dataframe\">\n",
       "  <thead>\n",
       "    <tr style=\"text-align: right;\">\n",
       "      <th></th>\n",
       "      <th>ID</th>\n",
       "      <th>City</th>\n",
       "      <th>Direction</th>\n",
       "      <th>Angle</th>\n",
       "      <th>Latitude</th>\n",
       "      <th>Longitude</th>\n",
       "      <th>Speed Limit</th>\n",
       "      <th>R_code</th>\n",
       "      <th>geometry</th>\n",
       "    </tr>\n",
       "  </thead>\n",
       "  <tbody>\n",
       "    <tr>\n",
       "      <th>0</th>\n",
       "      <td>F8863</td>\n",
       "      <td>수원시</td>\n",
       "      <td>3</td>\n",
       "      <td>W+E</td>\n",
       "      <td>37.265934</td>\n",
       "      <td>126.957433</td>\n",
       "      <td>60</td>\n",
       "      <td>2</td>\n",
       "      <td>None</td>\n",
       "    </tr>\n",
       "    <tr>\n",
       "      <th>1</th>\n",
       "      <td>F7559</td>\n",
       "      <td>용인시</td>\n",
       "      <td>1</td>\n",
       "      <td>SE</td>\n",
       "      <td>37.321687</td>\n",
       "      <td>127.079906</td>\n",
       "      <td>50</td>\n",
       "      <td>2</td>\n",
       "      <td>None</td>\n",
       "    </tr>\n",
       "    <tr>\n",
       "      <th>2</th>\n",
       "      <td>F7569</td>\n",
       "      <td>부천시</td>\n",
       "      <td>1</td>\n",
       "      <td>N</td>\n",
       "      <td>37.518766</td>\n",
       "      <td>126.770096</td>\n",
       "      <td>30</td>\n",
       "      <td>2</td>\n",
       "      <td>None</td>\n",
       "    </tr>\n",
       "  </tbody>\n",
       "</table>\n",
       "</div>"
      ],
      "text/plain": [
       "      ID City Direction Angle   Latitude   Longitude Speed Limit R_code  \\\n",
       "0  F8863  수원시         3   W+E  37.265934  126.957433          60      2   \n",
       "1  F7559  용인시         1    SE  37.321687  127.079906          50      2   \n",
       "2  F7569  부천시         1     N  37.518766  126.770096          30      2   \n",
       "\n",
       "  geometry  \n",
       "0     None  \n",
       "1     None  \n",
       "2     None  "
      ]
     },
     "execution_count": 3,
     "metadata": {},
     "output_type": "execute_result"
    }
   ],
   "source": [
    "cameras = gpd.read_file(r\"inputs\\camera.csv\",driver=\"csv\",encoding=\"utf8\")\n",
    "\n",
    "cameras.head(3)\n",
    "\n",
    "##cameras is a dataframe ↓↓ "
   ]
  },
  {
   "cell_type": "markdown",
   "metadata": {},
   "source": [
    "### convert \"cameras\" to GeoDataFrame"
   ]
  },
  {
   "cell_type": "code",
   "execution_count": 4,
   "metadata": {},
   "outputs": [],
   "source": [
    "cameras[\"Longitude\"]=cameras[\"Longitude\"].astype(float)\n",
    "cameras[\"Latitude\"]=cameras[\"Latitude\"].astype(float)\n",
    "cameras[\"geometry\"]=[Point(xy) for xy in zip(cameras[\"Longitude\"],cameras[\"Latitude\"])]\n",
    "cameras.crs = CRS.from_epsg(4326).to_wkt() ## cameras is already georeferenced using WGS84"
   ]
  },
  {
   "cell_type": "markdown",
   "metadata": {},
   "source": [
    "## re-projecting cameras to (epsg:5179)"
   ]
  },
  {
   "cell_type": "code",
   "execution_count": 6,
   "metadata": {},
   "outputs": [
    {
     "data": {
      "text/html": [
       "<div>\n",
       "<style scoped>\n",
       "    .dataframe tbody tr th:only-of-type {\n",
       "        vertical-align: middle;\n",
       "    }\n",
       "\n",
       "    .dataframe tbody tr th {\n",
       "        vertical-align: top;\n",
       "    }\n",
       "\n",
       "    .dataframe thead th {\n",
       "        text-align: right;\n",
       "    }\n",
       "</style>\n",
       "<table border=\"1\" class=\"dataframe\">\n",
       "  <thead>\n",
       "    <tr style=\"text-align: right;\">\n",
       "      <th></th>\n",
       "      <th>ID</th>\n",
       "      <th>City</th>\n",
       "      <th>Direction</th>\n",
       "      <th>Angle</th>\n",
       "      <th>Latitude</th>\n",
       "      <th>Longitude</th>\n",
       "      <th>Speed Limit</th>\n",
       "      <th>R_code</th>\n",
       "      <th>geometry</th>\n",
       "    </tr>\n",
       "  </thead>\n",
       "  <tbody>\n",
       "    <tr>\n",
       "      <th>0</th>\n",
       "      <td>F8863</td>\n",
       "      <td>수원시</td>\n",
       "      <td>3</td>\n",
       "      <td>W+E</td>\n",
       "      <td>37.265934</td>\n",
       "      <td>126.957433</td>\n",
       "      <td>60</td>\n",
       "      <td>2</td>\n",
       "      <td>POINT (951892.973 1918696.861)</td>\n",
       "    </tr>\n",
       "    <tr>\n",
       "      <th>1</th>\n",
       "      <td>F7559</td>\n",
       "      <td>용인시</td>\n",
       "      <td>1</td>\n",
       "      <td>SE</td>\n",
       "      <td>37.321687</td>\n",
       "      <td>127.079906</td>\n",
       "      <td>50</td>\n",
       "      <td>2</td>\n",
       "      <td>POINT (962779.653 1924826.835)</td>\n",
       "    </tr>\n",
       "    <tr>\n",
       "      <th>2</th>\n",
       "      <td>F7569</td>\n",
       "      <td>부천시</td>\n",
       "      <td>1</td>\n",
       "      <td>N</td>\n",
       "      <td>37.518766</td>\n",
       "      <td>126.770096</td>\n",
       "      <td>30</td>\n",
       "      <td>2</td>\n",
       "      <td>POINT (935499.426 1946858.495)</td>\n",
       "    </tr>\n",
       "  </tbody>\n",
       "</table>\n",
       "</div>"
      ],
      "text/plain": [
       "      ID City Direction Angle   Latitude   Longitude Speed Limit R_code  \\\n",
       "0  F8863  수원시         3   W+E  37.265934  126.957433          60      2   \n",
       "1  F7559  용인시         1    SE  37.321687  127.079906          50      2   \n",
       "2  F7569  부천시         1     N  37.518766  126.770096          30      2   \n",
       "\n",
       "                         geometry  \n",
       "0  POINT (951892.973 1918696.861)  \n",
       "1  POINT (962779.653 1924826.835)  \n",
       "2  POINT (935499.426 1946858.495)  "
      ]
     },
     "execution_count": 6,
     "metadata": {},
     "output_type": "execute_result"
    }
   ],
   "source": [
    "cameras.to_crs(epsg=5179,inplace=True)\n",
    "cameras.head(3)"
   ]
  },
  {
   "cell_type": "markdown",
   "metadata": {},
   "source": [
    "### writing \"Sq_Grid\" function to create squares grid to cover road"
   ]
  },
  {
   "cell_type": "code",
   "execution_count": 7,
   "metadata": {},
   "outputs": [
    {
     "name": "stdout",
     "output_type": "stream",
     "text": [
      "                                            geometry\n",
      "0  POLYGON ((876040.080 2045187.046, 876040.080 2...\n",
      "1  POLYGON ((876040.080 2025187.046, 876040.080 2...\n",
      "2  POLYGON ((876040.080 2005187.046, 876040.080 2...\n"
     ]
    }
   ],
   "source": [
    "def Sq_Grid(gdf,length,epsg_code):\n",
    "    cells=list()\n",
    "    minx,miny,maxx,maxy = gdf.total_bounds\n",
    "    for x0 in arange(minx,maxx,length):  ##x0 is a minimum x axis to box\n",
    "        for y1 in arange(maxy,miny,-length):  ##y1 is a maximum y axis to box\n",
    "            x1=x0+length  ##x1 is a maximum x axis to box\n",
    "            y0=y1-length  ##y0 is a minimum y axis to box\n",
    "            cells.append(box(x0,y0,x1,y1))\n",
    "    return gpd.GeoDataFrame(geometry=cells,crs=CRS.from_epsg(epsg_code))\n",
    "\n",
    "'''\n",
    "gdf : GeoDataframe\n",
    "length : side square length\n",
    "epsg_code : code to crs\n",
    "----------------------------------\n",
    "The box is ↓↓↓\n",
    "\n",
    "              \n",
    "    (x0,y1)_______ (x1,x2)\n",
    "          |       |\n",
    "          |       |  \n",
    "          |__ ____|\n",
    "    (x0,y0)        (x1,y0)\n",
    "\n",
    "x0=minx\n",
    "y0=miny\n",
    "x1=maxx\n",
    "x2=maxy\n",
    "--------------------------------\n",
    "use np.arange because float values\n",
    "\n",
    "'''\n",
    "\n",
    "grid = Sq_Grid(road,20000,5179)\n",
    "print(grid.head(3))"
   ]
  },
  {
   "cell_type": "markdown",
   "metadata": {},
   "source": [
    "### create \"grid_id\" column"
   ]
  },
  {
   "cell_type": "code",
   "execution_count": 8,
   "metadata": {},
   "outputs": [
    {
     "name": "stdout",
     "output_type": "stream",
     "text": [
      "                                            geometry  grid_id\n",
      "0  POLYGON ((876040.080 2045187.046, 876040.080 2...        1\n",
      "1  POLYGON ((876040.080 2025187.046, 876040.080 2...        2\n",
      "2  POLYGON ((876040.080 2005187.046, 876040.080 2...        3\n"
     ]
    }
   ],
   "source": [
    "grid[\"grid_id\"]=[ID for ID in range(1,len(grid)+1)]\n",
    "print(grid.head(3))"
   ]
  },
  {
   "cell_type": "markdown",
   "metadata": {},
   "source": [
    "### the intersection between road and grid"
   ]
  },
  {
   "cell_type": "code",
   "execution_count": 9,
   "metadata": {},
   "outputs": [
    {
     "name": "stdout",
     "output_type": "stream",
     "text": [
      "|    |    LINK_ID |     F_NODE |     T_NODE |   LANES |   ROAD_RANK |   ROAD_TYPE | ROAD_NO   | ROAD_NAME   |   ROAD_USE |   MULTI_LINK |   CONNECT |   MAX_SPD |   REST_VEH |   REST_W |   REST_H |   LENGTH | REMARK   |   grid_id | geometry                                                                              |\n",
      "|---:|-----------:|-----------:|-----------:|--------:|------------:|------------:|:----------|:------------|-----------:|-------------:|----------:|----------:|-----------:|---------:|---------:|---------:|:---------|----------:|:--------------------------------------------------------------------------------------|\n",
      "|  0 | 3880778900 | 3880289100 | 3880289500 |       1 |         107 |         000 | -         | 금오14길    |          0 |            0 |       000 |        40 |          0 |        0 |        0 | 134.264  |          |       439 | LINESTRING (1138704.411147075 1703375.173355783, 1138719.404664226 1703508.519328477) |\n",
      "|  1 | 3880779000 | 3880289500 | 3880289000 |       1 |         107 |         000 | -         | 금오14길    |          0 |            0 |       000 |        40 |          0 |        0 |        0 |  40.1724 |          |       439 | LINESTRING (1138719.394230216 1703508.432230688, 1138724.463125565 1703548.259988362) |\n",
      "|  2 | 3880779100 | 3880289000 | 3880289500 |       1 |         107 |         000 | -         | 금오14길    |          0 |            0 |       000 |        40 |          0 |        0 |        0 |  40.1723 |          |       439 | LINESTRING (1138712.566136057 1703549.774121644, 1138707.497141144 1703509.946463892) |\n"
     ]
    }
   ],
   "source": [
    "road_intersection=gpd.overlay(road,grid,how='intersection')\n",
    "print(road_intersection.head(3).to_markdown())\n",
    "## the \"grid_id\" is create in roads by overlay analysis"
   ]
  },
  {
   "cell_type": "markdown",
   "metadata": {},
   "source": [
    "### create \"grid_id\" column in cameras"
   ]
  },
  {
   "cell_type": "code",
   "execution_count": 10,
   "metadata": {},
   "outputs": [
    {
     "name": "stdout",
     "output_type": "stream",
     "text": [
      "|    | ID    | City   |   Direction | Angle   |   Latitude |   Longitude |   Speed Limit |   R_code | geometry                                    |   index_grid |   grid_id |\n",
      "|---:|:------|:-------|------------:|:--------|-----------:|------------:|--------------:|---------:|:--------------------------------------------|-------------:|----------:|\n",
      "|  0 | F8863 | 수원시 |           3 | W+E     |    37.2659 |     126.957 |            60 |        2 | POINT (951892.9733604998 1918696.861407467) |          127 |       128 |\n",
      "|  1 | F7559 | 용인시 |           1 | SE      |    37.3217 |     127.08  |            50 |        2 | POINT (962779.6532611722 1924826.834853379) |          157 |       158 |\n",
      "|  2 | F7569 | 부천시 |           1 | N       |    37.5188 |     126.77  |            30 |        2 | POINT (935499.4257011133 1946858.495053298) |           95 |        96 |\n"
     ]
    }
   ],
   "source": [
    "cameras_grid_id=gpd.sjoin(cameras,grid,how=\"left\",op=\"within\",rsuffix='grid',)\n",
    "\n",
    "'''\n",
    "how=\"left\" ↓↓\n",
    "\n",
    "a result of \"left\" same a result of \"inner\"\n",
    "\n",
    "I used \"left\" to save index ascending of cameras\n",
    "\n",
    "'''\n",
    "print(cameras_grid_id.head(3).to_markdown())"
   ]
  },
  {
   "cell_type": "markdown",
   "metadata": {},
   "source": [
    "### create grid boundary"
   ]
  },
  {
   "cell_type": "code",
   "execution_count": 11,
   "metadata": {},
   "outputs": [
    {
     "name": "stdout",
     "output_type": "stream",
     "text": [
      "|    | geometry                                                                                                                                                                                             |   grid_id |\n",
      "|---:|:-----------------------------------------------------------------------------------------------------------------------------------------------------------------------------------------------------|----------:|\n",
      "|  0 | LINESTRING (876040.0799623571 2045187.046464815, 876040.0799623571 2065187.046464815, 856040.0799623571 2065187.046464815, 856040.0799623571 2045187.046464815, 876040.0799623571 2045187.046464815) |         1 |\n",
      "|  1 | LINESTRING (876040.0799623571 2025187.046464815, 876040.0799623571 2045187.046464815, 856040.0799623571 2045187.046464815, 856040.0799623571 2025187.046464815, 876040.0799623571 2025187.046464815) |         2 |\n",
      "|  2 | LINESTRING (876040.0799623571 2005187.046464815, 876040.0799623571 2025187.046464815, 856040.0799623571 2025187.046464815, 856040.0799623571 2005187.046464815, 876040.0799623571 2005187.046464815) |         3 |\n"
     ]
    }
   ],
   "source": [
    "grid[\"geometry\"] = grid[\"geometry\"].boundary\n",
    "print(grid.head(3).to_markdown())"
   ]
  },
  {
   "cell_type": "markdown",
   "metadata": {},
   "source": [
    "### create otuputs directory"
   ]
  },
  {
   "cell_type": "code",
   "execution_count": 12,
   "metadata": {},
   "outputs": [],
   "source": [
    "path = os.path.join(os.getcwd(),\"otuputs\")\n",
    "os.mkdir(path)"
   ]
  },
  {
   "cell_type": "markdown",
   "metadata": {},
   "source": [
    "### create boundary,cameras and roads geojson files in otuputs dir"
   ]
  },
  {
   "cell_type": "code",
   "execution_count": 13,
   "metadata": {},
   "outputs": [],
   "source": [
    "for ID in grid[\"grid_id\"]:\n",
    "    os.mkdir(os.path.join(\"otuputs\",str(ID)))\n",
    "    grid[grid[\"grid_id\"]==ID].to_file(os.path.join(\"otuputs\",str(ID),\"boundary.geojson\"),driver=\"GeoJSON\")\n",
    "    if (cameras_grid_id[cameras_grid_id[\"grid_id\"]==ID].empty):\n",
    "        open(os.path.join(\"otuputs\",str(ID),\"cameras.geojson\"),\"x\")\n",
    "    else:\n",
    "        cameras_grid_id[cameras_grid_id[\"grid_id\"]==ID].to_file(os.path.join(\"otuputs\",str(ID),\"cameras.geojson\"),driver=\"GeoJSON\",encoding=\"utf-8\")\n",
    "    \n",
    "    if (road_intersection[road_intersection[\"grid_id\"]==ID].empty):\n",
    "        open(os.path.join(\"otuputs\",str(ID),\"roads.geojson\"),\"x\")\n",
    "    else:\n",
    "        road_intersection[road_intersection[\"grid_id\"]==ID].to_file(os.path.join(\"otuputs\",str(ID),\"roads.geojson\"),driver=\"GeoJSON\",encoding=\"utf-8\")"
   ]
  },
  {
   "cell_type": "code",
   "execution_count": null,
   "metadata": {},
   "outputs": [],
   "source": []
  },
  {
   "cell_type": "code",
   "execution_count": null,
   "metadata": {},
   "outputs": [],
   "source": []
  }
 ],
 "metadata": {
  "kernelspec": {
   "display_name": "Python 3",
   "language": "python",
   "name": "python3"
  },
  "language_info": {
   "codemirror_mode": {
    "name": "ipython",
    "version": 3
   },
   "file_extension": ".py",
   "mimetype": "text/x-python",
   "name": "python",
   "nbconvert_exporter": "python",
   "pygments_lexer": "ipython3",
   "version": "3.6.7"
  }
 },
 "nbformat": 4,
 "nbformat_minor": 2
}
